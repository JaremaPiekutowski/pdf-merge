{
 "cells": [
  {
   "cell_type": "code",
   "execution_count": 1,
   "metadata": {},
   "outputs": [],
   "source": [
    "import os\n",
    "import PyPDF2\n",
    "from PyPDF2 import PdfReader , PdfWriter, PdfMerger"
   ]
  },
  {
   "cell_type": "code",
   "execution_count": 2,
   "metadata": {},
   "outputs": [],
   "source": [
    "pdf_files = []\n",
    "\n",
    "# Get all the PDF filenames.\n",
    "# os.walk() returns three values: the current folder name,\n",
    "# a list of folders in the current folder, and a list of files in the current folder.\n",
    "for root, dirs, filenames in os.walk(os.getcwd()):\n",
    "    for filename in filenames:\n",
    "        if filename.lower().endswith('.pdf'):\n",
    "            pdf_files.append(os.path.join(root,filename))\n",
    "\n",
    "# Sort the filenames alphabetically.\n",
    "pdf_files.sort(key=str.lower)\n",
    "\n",
    "# Initialize a PdfWriter object.\n",
    "pdf_writer = PyPDF2.PdfWriter()"
   ]
  },
  {
   "cell_type": "code",
   "execution_count": 3,
   "metadata": {},
   "outputs": [],
   "source": [
    "# Loop through all the PDF files.\n",
    "for filename in pdf_files:\n",
    "    pdf_file_obj = open(filename, 'rb')\n",
    "    pdf_reader = PyPDF2.PdfReader(pdf_file_obj)\n",
    "    for page in pdf_reader.pages:\n",
    "        pdf_writer.add_page(page)"
   ]
  },
  {
   "cell_type": "code",
   "execution_count": 4,
   "metadata": {},
   "outputs": [],
   "source": [
    "pdf_output = open('merged_pdf.pdf', 'wb')\n",
    "pdf_writer.write(pdf_output)\n",
    "pdf_output.close()"
   ]
  }
 ],
 "metadata": {
  "kernelspec": {
   "display_name": "Python 3",
   "language": "python",
   "name": "python3"
  },
  "language_info": {
   "codemirror_mode": {
    "name": "ipython",
    "version": 3
   },
   "file_extension": ".py",
   "mimetype": "text/x-python",
   "name": "python",
   "nbconvert_exporter": "python",
   "pygments_lexer": "ipython3",
   "version": "3.11.0"
  }
 },
 "nbformat": 4,
 "nbformat_minor": 2
}
